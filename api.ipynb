{
 "cells": [
  {
   "cell_type": "code",
   "execution_count": 6,
   "metadata": {},
   "outputs": [],
   "source": [
    "import csv\n",
    "import spotipy\n",
    "from spotipy.oauth2 import SpotifyClientCredentials\n",
    "\n",
    "sp = spotipy.Spotify(client_credentials_manager=SpotifyClientCredentials('7d3a690f168247878a6614552cf5a6d6','d8f15bb902864923b8e2bd6b63b7369d'))\n",
    "\n",
    "results = sp.search(q='Ed Sheeran', type='track', limit=50)\n",
    "\n",
    "# buat file csv baru\n",
    "f = open('tracks.csv','w', encoding='utf-8')\n",
    "writer = csv.writer(f)\n",
    "\n",
    "# tulis header csv  \n",
    "header = ['track_name', 'artist_name','track_id', 'popularity']  \n",
    "writer.writerow(header)\n",
    "\n",
    "# tulis row per track\n",
    "for track in results['tracks']['items']:\n",
    "    track_name = track['name']\n",
    "    artist = track['artists'][0]['name'] \n",
    "    track_id = track['id']\n",
    "    popularity = track['popularity']\n",
    "    row = [track_name, artist,track_id, popularity]\n",
    "    writer.writerow(row) \n",
    "    \n",
    "f.close()"
   ]
  },
  {
   "cell_type": "code",
   "execution_count": 5,
   "metadata": {},
   "outputs": [
    {
     "name": "stdout",
     "output_type": "stream",
     "text": [
      "<Response [200]>\n"
     ]
    }
   ],
   "source": [
    "print(response)"
   ]
  }
 ],
 "metadata": {
  "kernelspec": {
   "display_name": "Python 3",
   "language": "python",
   "name": "python3"
  },
  "language_info": {
   "codemirror_mode": {
    "name": "ipython",
    "version": 3
   },
   "file_extension": ".py",
   "mimetype": "text/x-python",
   "name": "python",
   "nbconvert_exporter": "python",
   "pygments_lexer": "ipython3",
   "version": "3.11.4"
  }
 },
 "nbformat": 4,
 "nbformat_minor": 2
}
